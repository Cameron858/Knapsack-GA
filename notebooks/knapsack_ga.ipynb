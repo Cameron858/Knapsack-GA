{
 "cells": [
  {
   "cell_type": "code",
   "execution_count": null,
   "id": "3da4080a",
   "metadata": {},
   "outputs": [],
   "source": [
    "%load_ext autoreload\n",
    "%autoreload 2"
   ]
  },
  {
   "cell_type": "code",
   "execution_count": null,
   "id": "b2e63548",
   "metadata": {},
   "outputs": [],
   "source": [
    "from datetime import datetime\n",
    "from pathlib import Path\n",
    "import tempfile\n",
    "\n",
    "import pandas as pd\n",
    "import matplotlib.pyplot as plt\n",
    "import seaborn as sns\n",
    "from pyprojroot import here\n",
    "import imageio.v2 as imageio\n",
    "\n",
    "from knapsack import KnapsackGA\n",
    "from knapsack.items import items"
   ]
  },
  {
   "cell_type": "markdown",
   "id": "456306ff",
   "metadata": {},
   "source": [
    "# Knapsack - Genetic Algorithm"
   ]
  },
  {
   "cell_type": "code",
   "execution_count": null,
   "id": "fd358af9",
   "metadata": {},
   "outputs": [],
   "source": [
    "MAX_WEIGHT = 20\n",
    "MAX_GENERATIONS = 50\n",
    "POP_SIZE = 50"
   ]
  },
  {
   "cell_type": "code",
   "execution_count": null,
   "id": "7556e063",
   "metadata": {},
   "outputs": [],
   "source": [
    "ga = KnapsackGA(items, max_weight=MAX_WEIGHT, population_size=POP_SIZE)\n",
    "print(ga)"
   ]
  },
  {
   "cell_type": "code",
   "execution_count": null,
   "id": "acddcc8e",
   "metadata": {},
   "outputs": [],
   "source": [
    "solution, result = ga.run(generations=MAX_GENERATIONS)\n",
    "print(f\"{solution=}\\n{result.best_fitness=}\\n{result.runtime=}s\")"
   ]
  },
  {
   "cell_type": "markdown",
   "id": "7e055886",
   "metadata": {},
   "source": [
    "These are the items that made the cut:"
   ]
  },
  {
   "cell_type": "code",
   "execution_count": null,
   "id": "8717e040",
   "metadata": {},
   "outputs": [],
   "source": [
    "print(\"\\n\".join([i.name for i in solution]))"
   ]
  },
  {
   "cell_type": "markdown",
   "id": "c15bc69c",
   "metadata": {},
   "source": [
    "## Results and Visualisations"
   ]
  },
  {
   "cell_type": "markdown",
   "id": "7ec35e4c",
   "metadata": {},
   "source": [
    "### Create results subdirectory\n"
   ]
  },
  {
   "cell_type": "code",
   "execution_count": null,
   "id": "8089ffe3",
   "metadata": {},
   "outputs": [],
   "source": [
    "timestamp = datetime.now().strftime(\"%Y%m%d_%H%M%S\")\n",
    "\n",
    "results_path = here(\"results\") / timestamp\n",
    "results_path.mkdir(parents=True, exist_ok=True)"
   ]
  },
  {
   "cell_type": "code",
   "execution_count": null,
   "id": "cbe9376f",
   "metadata": {},
   "outputs": [],
   "source": [
    "data = pd.DataFrame([record[:-1] for record in result.history], columns=[\"generation\", \"best_fitness\", \"avg_fitness\"])"
   ]
  },
  {
   "cell_type": "markdown",
   "id": "ae1945f0",
   "metadata": {},
   "source": [
    "### Plot average population value over time"
   ]
  },
  {
   "cell_type": "code",
   "execution_count": null,
   "id": "606f0437",
   "metadata": {},
   "outputs": [],
   "source": [
    "fig, ax = plt.subplots(figsize=(8, 5))\n",
    "sns.lineplot(data, x=\"generation\", y=\"best_fitness\", ax=ax, label=\"Best value\")\n",
    "sns.lineplot(data, x=\"generation\", y=\"avg_fitness\", ax=ax, label=\"Average value\")\n",
    "\n",
    "ax.set(title=\"Results\", xlabel=\"Generation\", ylabel=\"Value\")\n",
    "ax.legend(loc=\"upper right\", bbox_to_anchor=(1.35, 1))\n",
    "\n",
    "params = ga.params()\n",
    "param_text = \"Parameters\\n\\n\" + \"\\n\".join(f\"{k}: {v}\" for k, v in params.items())\n",
    "ax.text(1.05, 0.8, param_text, transform=ax.transAxes, fontsize=10, verticalalignment='top')\n",
    "fig.tight_layout()"
   ]
  },
  {
   "cell_type": "code",
   "execution_count": null,
   "id": "b7b2fff3",
   "metadata": {},
   "outputs": [],
   "source": [
    "filename = \"ga_results.png\"\n",
    "filepath = results_path / filename\n",
    "\n",
    "# Save the figure\n",
    "fig.savefig(filepath, bbox_inches=\"tight\")"
   ]
  },
  {
   "cell_type": "markdown",
   "id": "70b89619",
   "metadata": {},
   "source": [
    "### Plot distributions of value and weight"
   ]
  },
  {
   "cell_type": "code",
   "execution_count": null,
   "id": "9f230abd",
   "metadata": {},
   "outputs": [],
   "source": [
    "def plot_generation_distributions(generation: int, values: list[float], weights: list[float], value_axis_lims=None, weight_axis_lims=None):\n",
    "    fig, (value_ax, weight_ax) = plt.subplots(1, 2, figsize=(12, 5))\n",
    "\n",
    "    # Plot histogram of values\n",
    "    value_ax.hist(values, bins=15, color='lightgreen', edgecolor='black', alpha=0.7)\n",
    "    value_ax.set_title('Value Distribution')\n",
    "    value_ax.set_xlabel('Total Value')\n",
    "    value_ax.set_ylabel('Number of Solutions')\n",
    "    value_ax.set_ylim(0, POP_SIZE)\n",
    "    if value_axis_lims:\n",
    "        value_ax.set_xlim(value_axis_lims[0], value_axis_lims[1] * 1.1)\n",
    "\n",
    "    max_value = max(values)\n",
    "    value_ax.axvline(x=max_value, color='green', linestyle='--', linewidth=2)\n",
    "    value_ax.annotate(f'Best: {max_value:.1f}', \n",
    "                    xy=(max_value, value_ax.get_ylim()[1]*0.9),\n",
    "                    xytext=(max_value*0.75, value_ax.get_ylim()[1]*0.9),\n",
    "                    arrowprops=dict(arrowstyle='->'))\n",
    "\n",
    "    # Plot histogram of weights\n",
    "    weight_ax.hist(weights, bins=15, color='skyblue', edgecolor='black', alpha=0.7)\n",
    "    weight_ax.set_title('Weight Distribution')\n",
    "    weight_ax.set_xlabel('Total Weight')\n",
    "    weight_ax.set_ylabel('Number of Solutions')\n",
    "    weight_ax.set_ylim(0, POP_SIZE)\n",
    "    if weight_axis_lims:\n",
    "        weight_ax.set_xlim(weight_axis_lims[0], weight_axis_lims[1] * 1.1)\n",
    "\n",
    "    weight_ax.axvline(x=MAX_WEIGHT, color='red', linestyle='--', linewidth=2)\n",
    "    weight_ax.annotate(f'Capacity: {MAX_WEIGHT}', \n",
    "                    xy=(MAX_WEIGHT, weight_ax.get_ylim()[1]*0.9),\n",
    "                    xytext=(MAX_WEIGHT*1.1, weight_ax.get_ylim()[1]*0.9),\n",
    "                    arrowprops=dict(arrowstyle='->'))\n",
    "\n",
    "    # Update main plot styling\n",
    "    fig.suptitle(f\"Generation {generation}\")\n",
    "    plt.tight_layout()\n",
    "    plt.close(fig)\n",
    "\n",
    "    return fig    "
   ]
  },
  {
   "cell_type": "markdown",
   "id": "b1cfb477",
   "metadata": {},
   "source": [
    "Calculate the max value and weight across all generations."
   ]
  },
  {
   "cell_type": "code",
   "execution_count": null,
   "id": "28d88eb1",
   "metadata": {},
   "outputs": [],
   "source": [
    "stats = []\n",
    "for record in result.history:\n",
    "    stats.extend(record[-1])\n",
    "\n",
    "values = [r[0] for r in stats]\n",
    "weights = [r[1] for r in stats]\n",
    "\n",
    "min_value, max_value = min(values), max(values)\n",
    "min_weight, max_weight = min(weights), max(weights)"
   ]
  },
  {
   "cell_type": "code",
   "execution_count": null,
   "id": "6131890b",
   "metadata": {},
   "outputs": [],
   "source": [
    "generation_to_plot = 0\n",
    "\n",
    "stats = result.history[generation_to_plot][-1]\n",
    "values = [result[0] for result in stats]\n",
    "weights = [result[1] for result in stats]\n",
    "\n",
    "fig = plot_generation_distributions(\n",
    "    generation_to_plot,\n",
    "    values,\n",
    "    weights,\n",
    "    value_axis_lims=(min_value, max_value),\n",
    "    weight_axis_lims=(min_weight, max_weight)\n",
    ")\n",
    "filename = f\"{generation_to_plot}_generation_distribution.png\"\n",
    "filepath = results_path / filename\n",
    "fig.savefig(filepath, bbox_inches=\"tight\")\n",
    "fig"
   ]
  },
  {
   "cell_type": "code",
   "execution_count": null,
   "id": "90742e2c",
   "metadata": {},
   "outputs": [],
   "source": [
    "generation_to_plot = MAX_GENERATIONS\n",
    "\n",
    "stats = result.history[generation_to_plot][-1]\n",
    "values = [result[0] for result in stats]\n",
    "weights = [result[1] for result in stats]\n",
    "\n",
    "fig = plot_generation_distributions(\n",
    "    generation_to_plot,\n",
    "    values,\n",
    "    weights,\n",
    "    value_axis_lims=(min_value, max_value),\n",
    "    weight_axis_lims=(min_weight, max_weight)\n",
    ")\n",
    "filename = f\"{generation_to_plot}_generation_distribution.png\"\n",
    "filepath = results_path / filename\n",
    "fig.savefig(filepath, bbox_inches=\"tight\")\n",
    "fig"
   ]
  },
  {
   "cell_type": "markdown",
   "id": "b24d45d9",
   "metadata": {},
   "source": [
    "### Create GIF"
   ]
  },
  {
   "cell_type": "code",
   "execution_count": null,
   "id": "af910119",
   "metadata": {},
   "outputs": [],
   "source": [
    "with tempfile.TemporaryDirectory() as tmpdirname:\n",
    "\n",
    "    tmpdir = Path(tmpdirname)\n",
    "\n",
    "    # generate frames\n",
    "    frame_paths = []\n",
    "    for record in result.history:\n",
    "        generation, stats = record[0], record[-1]\n",
    "\n",
    "        values = [result[0] for result in stats]\n",
    "        weights = [result[1] for result in stats]\n",
    "        fig = plot_generation_distributions(\n",
    "            generation,\n",
    "            values,\n",
    "            weights,\n",
    "            value_axis_lims=(min_value, max_value),\n",
    "            weight_axis_lims=(min_weight, max_weight)\n",
    "        )\n",
    "\n",
    "        filename = f\"{generation}_generation_distribution.png\"\n",
    "        filepath = tmpdir / filename\n",
    "        fig.savefig(filepath, dpi=100)\n",
    "\n",
    "        frame_paths.append(filepath)\n",
    "    \n",
    "    with imageio.get_writer(results_path / \"distributions.gif\", mode='I', fps=2, loop=0) as writer:\n",
    "        for frame_path in frame_paths:\n",
    "            image = imageio.imread(frame_path)\n",
    "            writer.append_data(image)\n"
   ]
  }
 ],
 "metadata": {
  "kernelspec": {
   "display_name": ".venv",
   "language": "python",
   "name": "python3"
  },
  "language_info": {
   "codemirror_mode": {
    "name": "ipython",
    "version": 3
   },
   "file_extension": ".py",
   "mimetype": "text/x-python",
   "name": "python",
   "nbconvert_exporter": "python",
   "pygments_lexer": "ipython3",
   "version": "3.13.0"
  }
 },
 "nbformat": 4,
 "nbformat_minor": 5
}
