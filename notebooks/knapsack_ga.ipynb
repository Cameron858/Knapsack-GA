{
 "cells": [
  {
   "cell_type": "code",
   "execution_count": null,
   "id": "3da4080a",
   "metadata": {},
   "outputs": [],
   "source": [
    "%load_ext autoreload\n",
    "%autoreload 2"
   ]
  },
  {
   "cell_type": "code",
   "execution_count": null,
   "id": "b2e63548",
   "metadata": {},
   "outputs": [],
   "source": [
    "from pathlib import Path\n",
    "from datetime import datetime\n",
    "\n",
    "import pandas as pd\n",
    "import matplotlib.pyplot as plt\n",
    "import seaborn as sns\n",
    "from pyprojroot import here\n",
    "\n",
    "from knapsack import KnapsackGA\n",
    "from knapsack.items import items"
   ]
  },
  {
   "cell_type": "markdown",
   "id": "456306ff",
   "metadata": {},
   "source": [
    "# Knapsack - Genetic Algorithm"
   ]
  },
  {
   "cell_type": "code",
   "execution_count": null,
   "id": "7556e063",
   "metadata": {},
   "outputs": [],
   "source": [
    "ga = KnapsackGA(items, max_weight=15, population_size=50)\n",
    "print(ga)"
   ]
  },
  {
   "cell_type": "code",
   "execution_count": null,
   "id": "acddcc8e",
   "metadata": {},
   "outputs": [],
   "source": [
    "solution, result = ga.run(generations=50)\n",
    "print(f\"{solution=}\\n{result.best_fitness=}\\n{result.runtime=}s\")"
   ]
  },
  {
   "cell_type": "markdown",
   "id": "7e055886",
   "metadata": {},
   "source": [
    "These are the items that made the cut:"
   ]
  },
  {
   "cell_type": "code",
   "execution_count": null,
   "id": "8717e040",
   "metadata": {},
   "outputs": [],
   "source": [
    "print(\"\\n\".join([i.name for i in solution]))"
   ]
  },
  {
   "cell_type": "markdown",
   "id": "c15bc69c",
   "metadata": {},
   "source": [
    "## Visualisations"
   ]
  },
  {
   "cell_type": "code",
   "execution_count": null,
   "id": "cbe9376f",
   "metadata": {},
   "outputs": [],
   "source": [
    "data = pd.DataFrame(result.history, columns=[\"generation\", \"best_fitness\", \"avg_fitness\"])"
   ]
  },
  {
   "cell_type": "code",
   "execution_count": null,
   "id": "606f0437",
   "metadata": {},
   "outputs": [],
   "source": [
    "fig, ax = plt.subplots(figsize=(8, 5))\n",
    "sns.lineplot(data, x=\"generation\", y=\"best_fitness\", ax=ax, label=\"Best fitness\")\n",
    "sns.lineplot(data, x=\"generation\", y=\"avg_fitness\", ax=ax, label=\"Average fitness\")\n",
    "\n",
    "ax.set(title=\"Results\", xlabel=\"Generation\", ylabel=\"Fitness\")\n",
    "ax.legend(loc=\"upper right\", bbox_to_anchor=(1.35, 1))\n",
    "\n",
    "params = ga.params()\n",
    "param_text = \"Parameters\\n\\n\" + \"\\n\".join(f\"{k}: {v}\" for k, v in params.items())\n",
    "ax.text(1.05, 0.8, param_text, transform=ax.transAxes, fontsize=10, verticalalignment='top')\n",
    "fig.tight_layout()"
   ]
  },
  {
   "cell_type": "code",
   "execution_count": null,
   "id": "b7b2fff3",
   "metadata": {},
   "outputs": [],
   "source": [
    "# Create figures/ directory if it doesn't exist\n",
    "figures_dir = here(\"figures\")\n",
    "figures_dir.mkdir(parents=True, exist_ok=True)\n",
    "\n",
    "# Create timestamped filename\n",
    "timestamp = datetime.now().strftime(\"%Y%m%d_%H%M%S\")\n",
    "filename = figures_dir / f\"ga_results_{timestamp}.png\"\n",
    "\n",
    "# Save the figure\n",
    "fig.savefig(filename, bbox_inches=\"tight\")"
   ]
  }
 ],
 "metadata": {
  "kernelspec": {
   "display_name": ".venv",
   "language": "python",
   "name": "python3"
  },
  "language_info": {
   "codemirror_mode": {
    "name": "ipython",
    "version": 3
   },
   "file_extension": ".py",
   "mimetype": "text/x-python",
   "name": "python",
   "nbconvert_exporter": "python",
   "pygments_lexer": "ipython3",
   "version": "3.13.0"
  }
 },
 "nbformat": 4,
 "nbformat_minor": 5
}
