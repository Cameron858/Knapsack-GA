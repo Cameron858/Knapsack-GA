{
 "cells": [
  {
   "cell_type": "code",
   "execution_count": null,
   "id": "3da4080a",
   "metadata": {},
   "outputs": [],
   "source": [
    "%load_ext autoreload\n",
    "%autoreload 2"
   ]
  },
  {
   "cell_type": "code",
   "execution_count": null,
   "id": "b2e63548",
   "metadata": {},
   "outputs": [],
   "source": [
    "from pathlib import Path\n",
    "from datetime import datetime\n",
    "\n",
    "import pandas as pd\n",
    "import matplotlib.pyplot as plt\n",
    "import seaborn as sns\n",
    "from pyprojroot import here\n",
    "\n",
    "from knapsack import KnapsackGA\n",
    "from knapsack.items import items"
   ]
  },
  {
   "cell_type": "markdown",
   "id": "456306ff",
   "metadata": {},
   "source": [
    "# Knapsack - Genetic Algorithm"
   ]
  },
  {
   "cell_type": "code",
   "execution_count": null,
   "id": "fd358af9",
   "metadata": {},
   "outputs": [],
   "source": [
    "MAX_WEIGHT = 20\n",
    "MAX_GENERATIONS = 50"
   ]
  },
  {
   "cell_type": "code",
   "execution_count": null,
   "id": "7556e063",
   "metadata": {},
   "outputs": [],
   "source": [
    "\n",
    "ga = KnapsackGA(items, max_weight=MAX_WEIGHT, population_size=50)\n",
    "print(ga)"
   ]
  },
  {
   "cell_type": "code",
   "execution_count": null,
   "id": "acddcc8e",
   "metadata": {},
   "outputs": [],
   "source": [
    "solution, result = ga.run(generations=MAX_GENERATIONS)\n",
    "print(f\"{solution=}\\n{result.best_fitness=}\\n{result.runtime=}s\")"
   ]
  },
  {
   "cell_type": "markdown",
   "id": "7e055886",
   "metadata": {},
   "source": [
    "These are the items that made the cut:"
   ]
  },
  {
   "cell_type": "code",
   "execution_count": null,
   "id": "8717e040",
   "metadata": {},
   "outputs": [],
   "source": [
    "print(\"\\n\".join([i.name for i in solution]))"
   ]
  },
  {
   "cell_type": "markdown",
   "id": "c15bc69c",
   "metadata": {},
   "source": [
    "## Results and Visualisations"
   ]
  },
  {
   "cell_type": "markdown",
   "id": "7ec35e4c",
   "metadata": {},
   "source": [
    "### Create results subdirectory\n"
   ]
  },
  {
   "cell_type": "code",
   "execution_count": null,
   "id": "8089ffe3",
   "metadata": {},
   "outputs": [],
   "source": [
    "timestamp = datetime.now().strftime(\"%Y%m%d_%H%M%S\")\n",
    "\n",
    "results_path = here(\"results\") / timestamp\n",
    "results_path.mkdir(parents=True, exist_ok=True)"
   ]
  },
  {
   "cell_type": "code",
   "execution_count": null,
   "id": "cbe9376f",
   "metadata": {},
   "outputs": [],
   "source": [
    "data = pd.DataFrame([record[:-1] for record in result.history], columns=[\"generation\", \"best_fitness\", \"avg_fitness\"])"
   ]
  },
  {
   "cell_type": "markdown",
   "id": "ae1945f0",
   "metadata": {},
   "source": [
    "### Plot average population value over time"
   ]
  },
  {
   "cell_type": "code",
   "execution_count": null,
   "id": "606f0437",
   "metadata": {},
   "outputs": [],
   "source": [
    "fig, ax = plt.subplots(figsize=(8, 5))\n",
    "sns.lineplot(data, x=\"generation\", y=\"best_fitness\", ax=ax, label=\"Best value\")\n",
    "sns.lineplot(data, x=\"generation\", y=\"avg_fitness\", ax=ax, label=\"Average value\")\n",
    "\n",
    "ax.set(title=\"Results\", xlabel=\"Generation\", ylabel=\"Value\")\n",
    "ax.legend(loc=\"upper right\", bbox_to_anchor=(1.35, 1))\n",
    "\n",
    "params = ga.params()\n",
    "param_text = \"Parameters\\n\\n\" + \"\\n\".join(f\"{k}: {v}\" for k, v in params.items())\n",
    "ax.text(1.05, 0.8, param_text, transform=ax.transAxes, fontsize=10, verticalalignment='top')\n",
    "fig.tight_layout()"
   ]
  },
  {
   "cell_type": "code",
   "execution_count": null,
   "id": "b7b2fff3",
   "metadata": {},
   "outputs": [],
   "source": [
    "filename = \"ga_results.png\"\n",
    "filepath = results_path / filename\n",
    "\n",
    "# Save the figure\n",
    "fig.savefig(filepath, bbox_inches=\"tight\")"
   ]
  },
  {
   "cell_type": "markdown",
   "id": "70b89619",
   "metadata": {},
   "source": [
    "### Plot distributions."
   ]
  },
  {
   "cell_type": "code",
   "execution_count": null,
   "id": "9f230abd",
   "metadata": {},
   "outputs": [],
   "source": [
    "from knapsack.algorithm import GAResult\n",
    "\n",
    "\n",
    "def plot_generation_distributions(result: GAResult, generation: int):\n",
    "    stats = result.history[generation][-1]\n",
    "\n",
    "    values = [result[0] for result in stats]\n",
    "    weights = [result[1] for result in stats]\n",
    "\n",
    "    fig, (ax1, ax2) = plt.subplots(1, 2, figsize=(12, 5))\n",
    "\n",
    "    # Plot histogram of values\n",
    "    ax1.hist(values, bins=15, color='lightgreen', edgecolor='black', alpha=0.7)\n",
    "    ax1.set_title('Value Distribution')\n",
    "    ax1.set_xlabel('Total Value')\n",
    "    ax1.set_ylabel('Number of Solutions')\n",
    "\n",
    "    max_value = max(values)\n",
    "    ax1.axvline(x=max_value, color='green', linestyle='--', linewidth=2)\n",
    "    ax1.annotate(f'Best: {max_value:.1f}', \n",
    "                    xy=(max_value, ax1.get_ylim()[1]*0.9),\n",
    "                    xytext=(max_value*0.75, ax1.get_ylim()[1]*0.9),\n",
    "                    arrowprops=dict(arrowstyle='->'))\n",
    "\n",
    "    # Plot histogram of weights\n",
    "    ax2.hist(weights, bins=15, color='skyblue', edgecolor='black', alpha=0.7)\n",
    "    ax2.set_title('Weight Distribution')\n",
    "    ax2.set_xlabel('Total Weight')\n",
    "    ax2.set_ylabel('Number of Solutions')\n",
    "\n",
    "    ax2.axvline(x=MAX_WEIGHT, color='red', linestyle='--', linewidth=2)\n",
    "    ax2.annotate(f'Capacity: {MAX_WEIGHT}', \n",
    "                    xy=(MAX_WEIGHT, ax2.get_ylim()[1]*0.9),\n",
    "                    xytext=(MAX_WEIGHT*1.1, ax2.get_ylim()[1]*0.9),\n",
    "                    arrowprops=dict(arrowstyle='->'))\n",
    "\n",
    "    fig.suptitle(f\"Generation {generation}\")\n",
    "    plt.tight_layout()\n",
    "\n",
    "    plt.close(fig)\n",
    "    return fig    "
   ]
  },
  {
   "cell_type": "code",
   "execution_count": null,
   "id": "6131890b",
   "metadata": {},
   "outputs": [],
   "source": [
    "generation_to_plot = 0\n",
    "fig = plot_generation_distributions(result, generation_to_plot)\n",
    "filename = f\"{generation_to_plot}_generation_distribution.png\"\n",
    "filepath = results_path / filename\n",
    "fig.savefig(filepath, bbox_inches=\"tight\")"
   ]
  },
  {
   "cell_type": "code",
   "execution_count": null,
   "id": "90742e2c",
   "metadata": {},
   "outputs": [],
   "source": [
    "generation_to_plot = MAX_GENERATIONS\n",
    "fig = plot_generation_distributions(result, generation_to_plot)\n",
    "filename = f\"{generation_to_plot}_generation_distribution.png\"\n",
    "filepath = results_path / filename\n",
    "fig.savefig(filepath, bbox_inches=\"tight\")"
   ]
  }
 ],
 "metadata": {
  "kernelspec": {
   "display_name": ".venv",
   "language": "python",
   "name": "python3"
  },
  "language_info": {
   "codemirror_mode": {
    "name": "ipython",
    "version": 3
   },
   "file_extension": ".py",
   "mimetype": "text/x-python",
   "name": "python",
   "nbconvert_exporter": "python",
   "pygments_lexer": "ipython3",
   "version": "3.13.0"
  }
 },
 "nbformat": 4,
 "nbformat_minor": 5
}
