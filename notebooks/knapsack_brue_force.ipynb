{
 "cells": [
  {
   "cell_type": "code",
   "execution_count": 43,
   "id": "343a8c96",
   "metadata": {},
   "outputs": [
    {
     "name": "stdout",
     "output_type": "stream",
     "text": [
      "The autoreload extension is already loaded. To reload it, use:\n",
      "  %reload_ext autoreload\n"
     ]
    }
   ],
   "source": [
    "%load_ext autoreload\n",
    "%autoreload 2"
   ]
  },
  {
   "cell_type": "code",
   "execution_count": 44,
   "id": "f2cc32ef",
   "metadata": {},
   "outputs": [],
   "source": [
    "from pathlib import Path\n",
    "from datetime import datetime\n",
    "import itertools\n",
    "\n",
    "import pandas as pd\n",
    "import matplotlib.pyplot as plt\n",
    "import seaborn as sns\n",
    "from pyprojroot import here\n",
    "\n",
    "from knapsack import KnapsackGA\n",
    "from knapsack.items import items"
   ]
  },
  {
   "cell_type": "markdown",
   "id": "8452e264",
   "metadata": {},
   "source": [
    "# Knapsack - Brute Force"
   ]
  },
  {
   "cell_type": "code",
   "execution_count": 45,
   "id": "e156a5c1",
   "metadata": {},
   "outputs": [
    {
     "name": "stdout",
     "output_type": "stream",
     "text": [
      "1 2 1.7e-05\n",
      "2 4 1.5e-05\n",
      "3 8 1.6e-05\n",
      "4 16 3.1e-05\n",
      "5 32 6.1e-05\n",
      "6 64 0.000123\n",
      "7 128 0.000248\n",
      "8 256 0.000523\n",
      "9 512 0.00109\n",
      "10 1024 0.003369\n",
      "11 2048 0.004684\n",
      "12 4096 0.012168\n",
      "13 8192 0.023318\n",
      "14 16384 0.044563\n",
      "15 32768 0.097044\n",
      "16 65536 0.198384\n",
      "17 131072 0.403962\n",
      "18 262144 0.904958\n",
      "19 524288 1.901017\n",
      "20 1048576 4.11047\n",
      "21 2097152 7.45692\n",
      "22 4194304 15.41181\n",
      "23 8388608 31.382631\n",
      "24 16777216 66.503822\n"
     ]
    }
   ],
   "source": [
    "max_weight = 20\n",
    "# past 24 takes a long time :)\n",
    "max_n = 24\n",
    "history = []\n",
    "\n",
    "for n in range(1, max_n + 1):\n",
    "    n_items = items[:n]\n",
    "\n",
    "    best_fitness = 0\n",
    "    best_solution = None\n",
    "\n",
    "    start_time = datetime.now()\n",
    "\n",
    "    n_combinations_checked = 0\n",
    "    for combination in map(list, itertools.product((0, 1), repeat=n)):\n",
    "        n_combinations_checked += 1\n",
    "        \n",
    "        value = sum(item.value for item, selected in zip(n_items, combination) if selected)\n",
    "        weight = sum(item.weight for item, selected in zip(n_items, combination) if selected)\n",
    "\n",
    "        if weight > max_weight:\n",
    "            value = 0\n",
    "\n",
    "        # update\n",
    "        if value > best_fitness:\n",
    "            best_solution = combination\n",
    "            best_fitness = value\n",
    "\n",
    "    end_time = datetime.now()\n",
    "    elapsed_time = (end_time - start_time).total_seconds()\n",
    "    history.append(\n",
    "        (n, n_combinations_checked, elapsed_time, best_fitness)\n",
    "    )\n",
    "    print(n, n_combinations_checked, elapsed_time)"
   ]
  },
  {
   "cell_type": "code",
   "execution_count": 46,
   "id": "2589b898",
   "metadata": {},
   "outputs": [],
   "source": [
    "data = pd.DataFrame(history, columns=[\"n\", \"combinations_checked\", \"time (s)\", \"best_fitness\"])"
   ]
  },
  {
   "cell_type": "code",
   "execution_count": 47,
   "id": "7471d5f1",
   "metadata": {},
   "outputs": [
    {
     "data": {
      "text/plain": [
       "[Text(0.5, 1.0, 'Brute-force Time Complexity for Knapsack Problem'),\n",
       " Text(0.5, 0, 'N items'),\n",
       " Text(0, 0.5, 'Time (s)')]"
      ]
     },
     "execution_count": 47,
     "metadata": {},
     "output_type": "execute_result"
    },
    {
     "data": {
      "image/png": "[encoded data removed]",
      "text/plain": [
       "<Figure size 800x500 with 1 Axes>"
      ]
     },
     "metadata": {},
     "output_type": "display_data"
    }
   ],
   "source": [
    "fig, ax = plt.subplots(figsize=(8, 5))\n",
    "sns.lineplot(data, x=\"n\", y=\"time (s)\", ax=ax,)\n",
    "\n",
    "ax.set(title=\"Brute-force Time Complexity for Knapsack Problem\", xlabel=\"N items\", ylabel=\"Time (s)\")"
   ]
  }
 ],
 "metadata": {
  "kernelspec": {
   "display_name": ".venv",
   "language": "python",
   "name": "python3"
  },
  "language_info": {
   "codemirror_mode": {
    "name": "ipython",
    "version": 3
   },
   "file_extension": ".py",
   "mimetype": "text/x-python",
   "name": "python",
   "nbconvert_exporter": "python",
   "pygments_lexer": "ipython3",
   "version": "3.13.0"
  }
 },
 "nbformat": 4,
 "nbformat_minor": 5
}
