{
 "cells": [
  {
   "cell_type": "code",
   "execution_count": 120,
   "id": "3da4080a",
   "metadata": {},
   "outputs": [
    {
     "name": "stdout",
     "output_type": "stream",
     "text": [
      "The autoreload extension is already loaded. To reload it, use:\n",
      "  %reload_ext autoreload\n"
     ]
    }
   ],
   "source": [
    "%load_ext autoreload\n",
    "%autoreload 2"
   ]
  },
  {
   "cell_type": "code",
   "execution_count": 121,
   "id": "b2e63548",
   "metadata": {},
   "outputs": [],
   "source": [
    "from knapsack import KnapsackGA\n",
    "from knapsack.items import items"
   ]
  },
  {
   "cell_type": "markdown",
   "id": "456306ff",
   "metadata": {},
   "source": [
    "# Knapsack problem"
   ]
  },
  {
   "cell_type": "code",
   "execution_count": 122,
   "id": "7556e063",
   "metadata": {},
   "outputs": [
    {
     "name": "stdout",
     "output_type": "stream",
     "text": [
      "KnapsackGA(num_items=37, max_weight=15, population_size=50, crossover_rate=0.80, mutation_rate=0.10, elitism_rate=0.10)\n"
     ]
    }
   ],
   "source": [
    "ga = KnapsackGA(items, max_weight=15, population_size=50)\n",
    "print(ga)"
   ]
  },
  {
   "cell_type": "code",
   "execution_count": null,
   "id": "acddcc8e",
   "metadata": {},
   "outputs": [
    {
     "name": "stdout",
     "output_type": "stream",
     "text": [
      "best_individual=[Item(name='Sonic Screwdriver', value=78, weight=0.3), Item(name='Portal Gun', value=92, weight=1.8), Item(name='Babel Fish', value=99, weight=0.01), Item(name=\"Hitchhiker's Guide to the Galaxy\", value=99, weight=0.9), Item(name='One Ring', value=98, weight=0.1), Item(name='Stark Arc Reactor', value=70, weight=0.9), Item(name='Elder Wand', value=94, weight=0.3), Item(name=\"Batman's Utility Belt\", value=85, weight=1.0), Item(name='Phaser', value=79, weight=0.8), Item(name='Witcher Medallion', value=60, weight=0.2), Item(name='Omnitrix', value=91, weight=0.5), Item(name='Gryphon Feather Cloak', value=87, weight=0.6), Item(name='Quantum Flux Destabilizer', value=88, weight=1.6), Item(name='Point-of-Sale Kardashev Transmuter', value=93, weight=0.9), Item(name='Neutrino Soap Dispenser', value=68, weight=0.4), Item(name='Four-Dimensional Coffee Filter', value=81, weight=0.3), Item(name='Reverse-Polarity Ion Shuffler', value=79, weight=1.5), Item(name='Multi-phase Heisenberg Compensator', value=90, weight=1.0), Item(name='Overclocked Psionic Cache Buffer', value=89, weight=1.7), Item(name='Non-Euclidean Mousepad', value=65, weight=0.1)]\n",
      "best_fitness=1685\n"
     ]
    }
   ],
   "source": [
    "solution, value, history = ga.run(generations=50)\n",
    "print(f\"{solution=}\\n{value=}\")"
   ]
  }
 ],
 "metadata": {
  "kernelspec": {
   "display_name": ".venv",
   "language": "python",
   "name": "python3"
  },
  "language_info": {
   "codemirror_mode": {
    "name": "ipython",
    "version": 3
   },
   "file_extension": ".py",
   "mimetype": "text/x-python",
   "name": "python",
   "nbconvert_exporter": "python",
   "pygments_lexer": "ipython3",
   "version": "3.13.0"
  }
 },
 "nbformat": 4,
 "nbformat_minor": 5
}
