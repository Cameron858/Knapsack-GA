{
 "cells": [
  {
   "cell_type": "code",
   "execution_count": 1,
   "id": "3da4080a",
   "metadata": {},
   "outputs": [],
   "source": [
    "%load_ext autoreload\n",
    "%autoreload 2"
   ]
  },
  {
   "cell_type": "code",
   "execution_count": 2,
   "id": "b2e63548",
   "metadata": {},
   "outputs": [],
   "source": [
    "from knapsack import KnapsackGA\n",
    "from knapsack.items import items"
   ]
  },
  {
   "cell_type": "markdown",
   "id": "456306ff",
   "metadata": {},
   "source": [
    "# Knapsack problem"
   ]
  },
  {
   "cell_type": "code",
   "execution_count": 3,
   "id": "7556e063",
   "metadata": {},
   "outputs": [
    {
     "name": "stdout",
     "output_type": "stream",
     "text": [
      "KnapsackGA(num_items=37, max_weight=20, population_size=50, crossover_rate=0.80, mutation_rate=0.10, elitism_rate=0.10)\n"
     ]
    }
   ],
   "source": [
    "ga = KnapsackGA(items, max_weight=20, population_size=50)\n",
    "print(ga)"
   ]
  }
 ],
 "metadata": {
  "kernelspec": {
   "display_name": ".venv",
   "language": "python",
   "name": "python3"
  },
  "language_info": {
   "codemirror_mode": {
    "name": "ipython",
    "version": 3
   },
   "file_extension": ".py",
   "mimetype": "text/x-python",
   "name": "python",
   "nbconvert_exporter": "python",
   "pygments_lexer": "ipython3",
   "version": "3.13.0"
  }
 },
 "nbformat": 4,
 "nbformat_minor": 5
}
